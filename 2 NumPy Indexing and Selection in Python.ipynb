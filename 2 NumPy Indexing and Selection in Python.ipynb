{
 "cells": [
  {
   "cell_type": "markdown",
   "id": "401ff4a7",
   "metadata": {},
   "source": [
    "## In this lec, we will discuss how to select elements or group of elements from an array"
   ]
  },
  {
   "cell_type": "code",
   "execution_count": 2,
   "id": "d25db359",
   "metadata": {},
   "outputs": [],
   "source": [
    "import numpy as np"
   ]
  },
  {
   "cell_type": "code",
   "execution_count": 3,
   "id": "0f3e55a8",
   "metadata": {},
   "outputs": [],
   "source": [
    "# Creating sample array \n",
    "\n",
    "arr = np.arange(0, 11)"
   ]
  },
  {
   "cell_type": "code",
   "execution_count": 4,
   "id": "2a6d13f9",
   "metadata": {},
   "outputs": [
    {
     "data": {
      "text/plain": [
       "array([ 0,  1,  2,  3,  4,  5,  6,  7,  8,  9, 10])"
      ]
     },
     "execution_count": 4,
     "metadata": {},
     "output_type": "execute_result"
    }
   ],
   "source": [
    "arr"
   ]
  },
  {
   "cell_type": "markdown",
   "id": "54e474e3",
   "metadata": {},
   "source": [
    "## Bracket Indexing and Selection"
   ]
  },
  {
   "cell_type": "markdown",
   "id": "acdae355",
   "metadata": {},
   "source": [
    "- The simplest way to pick one or some elements of an array looks very similar to python lists:\n",
    "    "
   ]
  },
  {
   "cell_type": "code",
   "execution_count": 5,
   "id": "fbfb5880",
   "metadata": {},
   "outputs": [
    {
     "data": {
      "text/plain": [
       "9"
      ]
     },
     "execution_count": 5,
     "metadata": {},
     "output_type": "execute_result"
    }
   ],
   "source": [
    "# Get a value at an index\n",
    "\n",
    "arr[9]"
   ]
  },
  {
   "cell_type": "code",
   "execution_count": 6,
   "id": "428cb296",
   "metadata": {},
   "outputs": [
    {
     "data": {
      "text/plain": [
       "array([1, 2, 3, 4])"
      ]
     },
     "execution_count": 6,
     "metadata": {},
     "output_type": "execute_result"
    }
   ],
   "source": [
    "# Get values in a range\n",
    "\n",
    "arr[1: 5]\n",
    "\n",
    "# 1 inclusive and 5 exclusive"
   ]
  },
  {
   "cell_type": "markdown",
   "id": "4a8a908a",
   "metadata": {},
   "source": [
    "# Broadcasting"
   ]
  },
  {
   "cell_type": "markdown",
   "id": "b9e07609",
   "metadata": {},
   "source": [
    "- NumPy arrays differ from a normal python list because of their ability to broadcast:"
   ]
  },
  {
   "cell_type": "code",
   "execution_count": 7,
   "id": "d0ee907d",
   "metadata": {},
   "outputs": [
    {
     "data": {
      "text/plain": [
       "array([100, 100, 100, 100, 100,   5,   6,   7,   8,   9,  10])"
      ]
     },
     "execution_count": 7,
     "metadata": {},
     "output_type": "execute_result"
    }
   ],
   "source": [
    "# Setting a value with index range (Broadcasting)\n",
    "\n",
    "arr[0: 5] = 100\n",
    "\n",
    "arr\n",
    "\n",
    "# replaces values from 0 to 5 with a value 100"
   ]
  },
  {
   "cell_type": "code",
   "execution_count": 8,
   "id": "3938f023",
   "metadata": {},
   "outputs": [],
   "source": [
    "# Reset array, we will see why I had to reset in a moment\n",
    "\n",
    "arr = np.arange(0, 11)"
   ]
  },
  {
   "cell_type": "code",
   "execution_count": 9,
   "id": "f9c86e2b",
   "metadata": {},
   "outputs": [
    {
     "data": {
      "text/plain": [
       "array([ 0,  1,  2,  3,  4,  5,  6,  7,  8,  9, 10])"
      ]
     },
     "execution_count": 9,
     "metadata": {},
     "output_type": "execute_result"
    }
   ],
   "source": [
    "arr"
   ]
  },
  {
   "cell_type": "markdown",
   "id": "91f93aff",
   "metadata": {},
   "source": [
    "# Important notes on Slices"
   ]
  },
  {
   "cell_type": "code",
   "execution_count": 10,
   "id": "406f790a",
   "metadata": {},
   "outputs": [],
   "source": [
    "slice_of_arr = arr[0: 6]"
   ]
  },
  {
   "cell_type": "code",
   "execution_count": 11,
   "id": "fd909826",
   "metadata": {},
   "outputs": [
    {
     "data": {
      "text/plain": [
       "array([0, 1, 2, 3, 4, 5])"
      ]
     },
     "execution_count": 11,
     "metadata": {},
     "output_type": "execute_result"
    }
   ],
   "source": [
    "slice_of_arr"
   ]
  },
  {
   "cell_type": "code",
   "execution_count": 12,
   "id": "7d845f27",
   "metadata": {},
   "outputs": [
    {
     "data": {
      "text/plain": [
       "array([99, 99, 99, 99, 99, 99])"
      ]
     },
     "execution_count": 12,
     "metadata": {},
     "output_type": "execute_result"
    }
   ],
   "source": [
    "# change slice\n",
    "\n",
    "slice_of_arr[:] = 99\n",
    "\n",
    "# show slice again\n",
    "slice_of_arr"
   ]
  },
  {
   "cell_type": "markdown",
   "id": "b0d8a838",
   "metadata": {},
   "source": [
    "- Now note the changes also occur in our original array!"
   ]
  },
  {
   "cell_type": "code",
   "execution_count": 13,
   "id": "5e2d3343",
   "metadata": {},
   "outputs": [
    {
     "data": {
      "text/plain": [
       "array([99, 99, 99, 99, 99, 99,  6,  7,  8,  9, 10])"
      ]
     },
     "execution_count": 13,
     "metadata": {},
     "output_type": "execute_result"
    }
   ],
   "source": [
    "arr"
   ]
  },
  {
   "cell_type": "markdown",
   "id": "8456d535",
   "metadata": {},
   "source": [
    "## Data is not copied, it's a view of the original array! This avoids memory problems!!!!"
   ]
  },
  {
   "cell_type": "code",
   "execution_count": 14,
   "id": "14b79223",
   "metadata": {},
   "outputs": [
    {
     "data": {
      "text/plain": [
       "array([99, 99, 99, 99, 99, 99,  6,  7,  8,  9, 10])"
      ]
     },
     "execution_count": 14,
     "metadata": {},
     "output_type": "execute_result"
    }
   ],
   "source": [
    "# To get a copy, neeed to be explicit\n",
    "\n",
    "arr_copy = arr.copy()\n",
    "arr_copy"
   ]
  },
  {
   "cell_type": "markdown",
   "id": "c3dc38b8",
   "metadata": {},
   "source": [
    "## Indexing a 2D array(matrices)"
   ]
  },
  {
   "cell_type": "markdown",
   "id": "41e568d1",
   "metadata": {},
   "source": [
    "- The general format is arr_2D[row][col] or arr_2D[row, col]. Suggest to using the comma notation for clarity"
   ]
  },
  {
   "cell_type": "code",
   "execution_count": 15,
   "id": "f3d66d70",
   "metadata": {},
   "outputs": [
    {
     "data": {
      "text/plain": [
       "array([[ 5, 10, 15],\n",
       "       [20, 25, 30],\n",
       "       [35, 40, 45]])"
      ]
     },
     "execution_count": 15,
     "metadata": {},
     "output_type": "execute_result"
    }
   ],
   "source": [
    "arr_2D = np.array(([5, 10, 15], [20, 25, 30], [35, 40, 45]))\n",
    "\n",
    "arr_2D"
   ]
  },
  {
   "cell_type": "code",
   "execution_count": 16,
   "id": "e0eebbb7",
   "metadata": {},
   "outputs": [],
   "source": [
    "# Indexing row"
   ]
  },
  {
   "cell_type": "code",
   "execution_count": 16,
   "id": "2a287ad9",
   "metadata": {},
   "outputs": [
    {
     "data": {
      "text/plain": [
       "array([20, 25, 30])"
      ]
     },
     "execution_count": 16,
     "metadata": {},
     "output_type": "execute_result"
    }
   ],
   "source": [
    "arr_2D[1]"
   ]
  },
  {
   "cell_type": "code",
   "execution_count": 18,
   "id": "dd6d6860",
   "metadata": {},
   "outputs": [],
   "source": [
    "# Format is arr_2D[row][col] or arr_2D[row, col]"
   ]
  },
  {
   "cell_type": "code",
   "execution_count": 19,
   "id": "d9d0f7c0",
   "metadata": {},
   "outputs": [],
   "source": [
    "# Getting individual element value"
   ]
  },
  {
   "cell_type": "code",
   "execution_count": 17,
   "id": "b251b898",
   "metadata": {},
   "outputs": [
    {
     "data": {
      "text/plain": [
       "20"
      ]
     },
     "execution_count": 17,
     "metadata": {},
     "output_type": "execute_result"
    }
   ],
   "source": [
    "arr_2D[1, 0]\n",
    "\n",
    "# or \n",
    "\n",
    "# arr_2D[1][0]"
   ]
  },
  {
   "cell_type": "code",
   "execution_count": 18,
   "id": "0577b06f",
   "metadata": {},
   "outputs": [
    {
     "data": {
      "text/plain": [
       "20"
      ]
     },
     "execution_count": 18,
     "metadata": {},
     "output_type": "execute_result"
    }
   ],
   "source": [
    "arr_2D[1][0]"
   ]
  },
  {
   "cell_type": "code",
   "execution_count": 20,
   "id": "f8734a4e",
   "metadata": {},
   "outputs": [
    {
     "data": {
      "text/plain": [
       "20"
      ]
     },
     "execution_count": 20,
     "metadata": {},
     "output_type": "execute_result"
    }
   ],
   "source": [
    "# Getting individual element value\n",
    "\n",
    "arr_2D[1][0]"
   ]
  },
  {
   "cell_type": "code",
   "execution_count": 21,
   "id": "256c866e",
   "metadata": {},
   "outputs": [
    {
     "data": {
      "text/plain": [
       "array([[ 5, 10, 15],\n",
       "       [20, 25, 30],\n",
       "       [35, 40, 45]])"
      ]
     },
     "execution_count": 21,
     "metadata": {},
     "output_type": "execute_result"
    }
   ],
   "source": [
    "arr_2D = np.array(([5, 10, 15], [20, 25, 30], [35, 40, 45]))\n",
    "\n",
    "arr_2D"
   ]
  },
  {
   "cell_type": "markdown",
   "id": "5f33482a",
   "metadata": {},
   "source": [
    "## 2D array slicing:\n",
    "Shape (2, 2) from top right corner"
   ]
  },
  {
   "cell_type": "code",
   "execution_count": 24,
   "id": "019fa082",
   "metadata": {},
   "outputs": [
    {
     "data": {
      "text/plain": [
       "array([[10, 15],\n",
       "       [25, 30]])"
      ]
     },
     "execution_count": 24,
     "metadata": {},
     "output_type": "execute_result"
    }
   ],
   "source": [
    "arr_2D[:2, 1:]"
   ]
  },
  {
   "cell_type": "code",
   "execution_count": 25,
   "id": "f9d7b7e6",
   "metadata": {},
   "outputs": [
    {
     "data": {
      "text/plain": [
       "array([35, 40, 45])"
      ]
     },
     "execution_count": 25,
     "metadata": {},
     "output_type": "execute_result"
    }
   ],
   "source": [
    "arr_2D[2]"
   ]
  },
  {
   "cell_type": "code",
   "execution_count": 26,
   "id": "9f40b933",
   "metadata": {},
   "outputs": [],
   "source": [
    "# Shape bottom row"
   ]
  },
  {
   "cell_type": "code",
   "execution_count": 27,
   "id": "283dbe9a",
   "metadata": {},
   "outputs": [
    {
     "data": {
      "text/plain": [
       "array([35, 40, 45])"
      ]
     },
     "execution_count": 27,
     "metadata": {},
     "output_type": "execute_result"
    }
   ],
   "source": [
    "arr_2D[2, :]"
   ]
  },
  {
   "cell_type": "markdown",
   "id": "067792cf",
   "metadata": {},
   "source": [
    "## Fancy Indexing"
   ]
  },
  {
   "cell_type": "markdown",
   "id": "f24cf22a",
   "metadata": {},
   "source": [
    "- Fancy indexing allows you to select entire rows or columns out of order, to show this, let's quickly build out a numpy array:"
   ]
  },
  {
   "cell_type": "code",
   "execution_count": 28,
   "id": "6f04446a",
   "metadata": {},
   "outputs": [],
   "source": [
    "# Set up matrix"
   ]
  },
  {
   "cell_type": "code",
   "execution_count": 29,
   "id": "4697743f",
   "metadata": {},
   "outputs": [],
   "source": [
    "arr_2D = np.zeros((10, 10))"
   ]
  },
  {
   "cell_type": "code",
   "execution_count": 30,
   "id": "f202cd9f",
   "metadata": {},
   "outputs": [],
   "source": [
    "# length of array\n",
    "\n",
    "arr_length = arr_2D.shape[1]"
   ]
  },
  {
   "cell_type": "code",
   "execution_count": 31,
   "id": "89babe71",
   "metadata": {},
   "outputs": [
    {
     "data": {
      "text/plain": [
       "array([[0., 0., 0., 0., 0., 0., 0., 0., 0., 0.],\n",
       "       [1., 1., 1., 1., 1., 1., 1., 1., 1., 1.],\n",
       "       [2., 2., 2., 2., 2., 2., 2., 2., 2., 2.],\n",
       "       [3., 3., 3., 3., 3., 3., 3., 3., 3., 3.],\n",
       "       [4., 4., 4., 4., 4., 4., 4., 4., 4., 4.],\n",
       "       [5., 5., 5., 5., 5., 5., 5., 5., 5., 5.],\n",
       "       [6., 6., 6., 6., 6., 6., 6., 6., 6., 6.],\n",
       "       [7., 7., 7., 7., 7., 7., 7., 7., 7., 7.],\n",
       "       [8., 8., 8., 8., 8., 8., 8., 8., 8., 8.],\n",
       "       [9., 9., 9., 9., 9., 9., 9., 9., 9., 9.]])"
      ]
     },
     "execution_count": 31,
     "metadata": {},
     "output_type": "execute_result"
    }
   ],
   "source": [
    "# Set up array\n",
    "\n",
    "for i in range(arr_length):\n",
    "    arr_2D[i] = i\n",
    "    \n",
    "arr_2D"
   ]
  },
  {
   "cell_type": "code",
   "execution_count": 32,
   "id": "151eae04",
   "metadata": {},
   "outputs": [],
   "source": [
    "# Fancy indexing allows the following:\n",
    "\n"
   ]
  },
  {
   "cell_type": "code",
   "execution_count": 33,
   "id": "23cc6773",
   "metadata": {},
   "outputs": [
    {
     "data": {
      "text/plain": [
       "array([[2., 2., 2., 2., 2., 2., 2., 2., 2., 2.],\n",
       "       [4., 4., 4., 4., 4., 4., 4., 4., 4., 4.],\n",
       "       [6., 6., 6., 6., 6., 6., 6., 6., 6., 6.],\n",
       "       [8., 8., 8., 8., 8., 8., 8., 8., 8., 8.]])"
      ]
     },
     "execution_count": 33,
     "metadata": {},
     "output_type": "execute_result"
    }
   ],
   "source": [
    "arr_2D[[2, 4, 6, 8]]"
   ]
  },
  {
   "cell_type": "code",
   "execution_count": 34,
   "id": "18521431",
   "metadata": {},
   "outputs": [],
   "source": [
    "# Allows in any order"
   ]
  },
  {
   "cell_type": "code",
   "execution_count": 35,
   "id": "5ec4885c",
   "metadata": {},
   "outputs": [
    {
     "data": {
      "text/plain": [
       "array([[6., 6., 6., 6., 6., 6., 6., 6., 6., 6.],\n",
       "       [4., 4., 4., 4., 4., 4., 4., 4., 4., 4.],\n",
       "       [2., 2., 2., 2., 2., 2., 2., 2., 2., 2.],\n",
       "       [7., 7., 7., 7., 7., 7., 7., 7., 7., 7.]])"
      ]
     },
     "execution_count": 35,
     "metadata": {},
     "output_type": "execute_result"
    }
   ],
   "source": [
    "arr_2D[[6, 4, 2, 7]]"
   ]
  },
  {
   "cell_type": "markdown",
   "id": "3222798b",
   "metadata": {},
   "source": [
    "## More indexing help:"
   ]
  },
  {
   "cell_type": "markdown",
   "id": "edd2dd75",
   "metadata": {},
   "source": [
    "- Indexing a 2D matrix can be bit confusing at first, especially when you start to add in step size. "
   ]
  },
  {
   "cell_type": "markdown",
   "id": "34b6e32b",
   "metadata": {},
   "source": [
    "## Selection"
   ]
  },
  {
   "cell_type": "code",
   "execution_count": 37,
   "id": "663cc477",
   "metadata": {},
   "outputs": [],
   "source": [
    "arr = np.arange(1, 11)"
   ]
  },
  {
   "cell_type": "code",
   "execution_count": 38,
   "id": "729651d3",
   "metadata": {},
   "outputs": [
    {
     "data": {
      "text/plain": [
       "array([ 1,  2,  3,  4,  5,  6,  7,  8,  9, 10])"
      ]
     },
     "execution_count": 38,
     "metadata": {},
     "output_type": "execute_result"
    }
   ],
   "source": [
    "arr"
   ]
  },
  {
   "cell_type": "code",
   "execution_count": 39,
   "id": "087ba275",
   "metadata": {},
   "outputs": [
    {
     "data": {
      "text/plain": [
       "array([False, False, False, False,  True,  True,  True,  True,  True,\n",
       "        True])"
      ]
     },
     "execution_count": 39,
     "metadata": {},
     "output_type": "execute_result"
    }
   ],
   "source": [
    "arr > 4"
   ]
  },
  {
   "cell_type": "code",
   "execution_count": 40,
   "id": "5a9601c0",
   "metadata": {},
   "outputs": [],
   "source": [
    "bool_arr = arr > 4"
   ]
  },
  {
   "cell_type": "code",
   "execution_count": 42,
   "id": "cc27e7d3",
   "metadata": {},
   "outputs": [
    {
     "data": {
      "text/plain": [
       "array([False, False, False, False,  True,  True,  True,  True,  True,\n",
       "        True])"
      ]
     },
     "execution_count": 42,
     "metadata": {},
     "output_type": "execute_result"
    }
   ],
   "source": [
    "bool_arr"
   ]
  },
  {
   "cell_type": "code",
   "execution_count": 43,
   "id": "b6eff0e4",
   "metadata": {},
   "outputs": [
    {
     "data": {
      "text/plain": [
       "array([ 5,  6,  7,  8,  9, 10])"
      ]
     },
     "execution_count": 43,
     "metadata": {},
     "output_type": "execute_result"
    }
   ],
   "source": [
    "arr[bool_arr]"
   ]
  },
  {
   "cell_type": "raw",
   "id": "de9601e2",
   "metadata": {},
   "source": []
  },
  {
   "cell_type": "raw",
   "id": "b072b7a1",
   "metadata": {},
   "source": []
  },
  {
   "cell_type": "code",
   "execution_count": null,
   "id": "77a65f25",
   "metadata": {},
   "outputs": [],
   "source": []
  }
 ],
 "metadata": {
  "kernelspec": {
   "display_name": "Python 3 (ipykernel)",
   "language": "python",
   "name": "python3"
  },
  "language_info": {
   "codemirror_mode": {
    "name": "ipython",
    "version": 3
   },
   "file_extension": ".py",
   "mimetype": "text/x-python",
   "name": "python",
   "nbconvert_exporter": "python",
   "pygments_lexer": "ipython3",
   "version": "3.9.13"
  }
 },
 "nbformat": 4,
 "nbformat_minor": 5
}
